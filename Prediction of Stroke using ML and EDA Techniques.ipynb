{
 "cells": [
  {
   "cell_type": "markdown",
   "id": "romance-condition",
   "metadata": {
    "papermill": {
     "duration": 0.038026,
     "end_time": "2021-06-04T13:45:00.749905",
     "exception": false,
     "start_time": "2021-06-04T13:45:00.711879",
     "status": "completed"
    },
    "tags": []
   },
   "source": [
    "According to WHO, 15 million people suffer strokes worldwide each year. On which 5 million die and another 5 million are permanently disabled.\n",
    "<br>\n",
    "The goal of this project is to create a machine learning model for predicting stroke and to assess the model's accuracy. We'll experiment with various machine learning algorithms to find which ones generate dependable and accurate results."
   ]
  },
  {
   "cell_type": "markdown",
   "id": "large-carry",
   "metadata": {
    "papermill": {
     "duration": 0.037866,
     "end_time": "2021-06-04T13:45:00.826116",
     "exception": false,
     "start_time": "2021-06-04T13:45:00.788250",
     "status": "completed"
    },
    "tags": []
   },
   "source": [
    "**Importing Libraries and Datasets**"
   ]
  },
  {
   "cell_type": "code",
   "execution_count": 1,
   "id": "electronic-agreement",
   "metadata": {
    "execution": {
     "iopub.execute_input": "2021-06-04T13:45:00.908619Z",
     "iopub.status.busy": "2021-06-04T13:45:00.906813Z",
     "iopub.status.idle": "2021-06-04T13:45:01.783009Z",
     "shell.execute_reply": "2021-06-04T13:45:01.780054Z",
     "shell.execute_reply.started": "2021-06-04T13:33:01.747114Z"
    },
    "papermill": {
     "duration": 0.918981,
     "end_time": "2021-06-04T13:45:01.783217",
     "exception": false,
     "start_time": "2021-06-04T13:45:00.864236",
     "status": "completed"
    },
    "tags": []
   },
   "outputs": [
    {
     "data": {
      "text/html": [
       "<div>\n",
       "<style scoped>\n",
       "    .dataframe tbody tr th:only-of-type {\n",
       "        vertical-align: middle;\n",
       "    }\n",
       "\n",
       "    .dataframe tbody tr th {\n",
       "        vertical-align: top;\n",
       "    }\n",
       "\n",
       "    .dataframe thead th {\n",
       "        text-align: right;\n",
       "    }\n",
       "</style>\n",
       "<table border=\"1\" class=\"dataframe\">\n",
       "  <thead>\n",
       "    <tr style=\"text-align: right;\">\n",
       "      <th></th>\n",
       "      <th>id</th>\n",
       "      <th>gender</th>\n",
       "      <th>age</th>\n",
       "      <th>hypertension</th>\n",
       "      <th>heart_disease</th>\n",
       "      <th>ever_married</th>\n",
       "      <th>work_type</th>\n",
       "      <th>Residence_type</th>\n",
       "      <th>avg_glucose_level</th>\n",
       "      <th>bmi</th>\n",
       "      <th>smoking_status</th>\n",
       "      <th>stroke</th>\n",
       "    </tr>\n",
       "  </thead>\n",
       "  <tbody>\n",
       "    <tr>\n",
       "      <th>0</th>\n",
       "      <td>9046</td>\n",
       "      <td>Male</td>\n",
       "      <td>67.0</td>\n",
       "      <td>0</td>\n",
       "      <td>1</td>\n",
       "      <td>Yes</td>\n",
       "      <td>Private</td>\n",
       "      <td>Urban</td>\n",
       "      <td>228.69</td>\n",
       "      <td>36.6</td>\n",
       "      <td>formerly smoked</td>\n",
       "      <td>1</td>\n",
       "    </tr>\n",
       "    <tr>\n",
       "      <th>1</th>\n",
       "      <td>51676</td>\n",
       "      <td>Female</td>\n",
       "      <td>61.0</td>\n",
       "      <td>0</td>\n",
       "      <td>0</td>\n",
       "      <td>Yes</td>\n",
       "      <td>Self-employed</td>\n",
       "      <td>Rural</td>\n",
       "      <td>202.21</td>\n",
       "      <td>NaN</td>\n",
       "      <td>never smoked</td>\n",
       "      <td>1</td>\n",
       "    </tr>\n",
       "    <tr>\n",
       "      <th>2</th>\n",
       "      <td>31112</td>\n",
       "      <td>Male</td>\n",
       "      <td>80.0</td>\n",
       "      <td>0</td>\n",
       "      <td>1</td>\n",
       "      <td>Yes</td>\n",
       "      <td>Private</td>\n",
       "      <td>Rural</td>\n",
       "      <td>105.92</td>\n",
       "      <td>32.5</td>\n",
       "      <td>never smoked</td>\n",
       "      <td>1</td>\n",
       "    </tr>\n",
       "    <tr>\n",
       "      <th>3</th>\n",
       "      <td>60182</td>\n",
       "      <td>Female</td>\n",
       "      <td>49.0</td>\n",
       "      <td>0</td>\n",
       "      <td>0</td>\n",
       "      <td>Yes</td>\n",
       "      <td>Private</td>\n",
       "      <td>Urban</td>\n",
       "      <td>171.23</td>\n",
       "      <td>34.4</td>\n",
       "      <td>smokes</td>\n",
       "      <td>1</td>\n",
       "    </tr>\n",
       "    <tr>\n",
       "      <th>4</th>\n",
       "      <td>1665</td>\n",
       "      <td>Female</td>\n",
       "      <td>79.0</td>\n",
       "      <td>1</td>\n",
       "      <td>0</td>\n",
       "      <td>Yes</td>\n",
       "      <td>Self-employed</td>\n",
       "      <td>Rural</td>\n",
       "      <td>174.12</td>\n",
       "      <td>24.0</td>\n",
       "      <td>never smoked</td>\n",
       "      <td>1</td>\n",
       "    </tr>\n",
       "    <tr>\n",
       "      <th>...</th>\n",
       "      <td>...</td>\n",
       "      <td>...</td>\n",
       "      <td>...</td>\n",
       "      <td>...</td>\n",
       "      <td>...</td>\n",
       "      <td>...</td>\n",
       "      <td>...</td>\n",
       "      <td>...</td>\n",
       "      <td>...</td>\n",
       "      <td>...</td>\n",
       "      <td>...</td>\n",
       "      <td>...</td>\n",
       "    </tr>\n",
       "    <tr>\n",
       "      <th>5105</th>\n",
       "      <td>18234</td>\n",
       "      <td>Female</td>\n",
       "      <td>80.0</td>\n",
       "      <td>1</td>\n",
       "      <td>0</td>\n",
       "      <td>Yes</td>\n",
       "      <td>Private</td>\n",
       "      <td>Urban</td>\n",
       "      <td>83.75</td>\n",
       "      <td>NaN</td>\n",
       "      <td>never smoked</td>\n",
       "      <td>0</td>\n",
       "    </tr>\n",
       "    <tr>\n",
       "      <th>5106</th>\n",
       "      <td>44873</td>\n",
       "      <td>Female</td>\n",
       "      <td>81.0</td>\n",
       "      <td>0</td>\n",
       "      <td>0</td>\n",
       "      <td>Yes</td>\n",
       "      <td>Self-employed</td>\n",
       "      <td>Urban</td>\n",
       "      <td>125.20</td>\n",
       "      <td>40.0</td>\n",
       "      <td>never smoked</td>\n",
       "      <td>0</td>\n",
       "    </tr>\n",
       "    <tr>\n",
       "      <th>5107</th>\n",
       "      <td>19723</td>\n",
       "      <td>Female</td>\n",
       "      <td>35.0</td>\n",
       "      <td>0</td>\n",
       "      <td>0</td>\n",
       "      <td>Yes</td>\n",
       "      <td>Self-employed</td>\n",
       "      <td>Rural</td>\n",
       "      <td>82.99</td>\n",
       "      <td>30.6</td>\n",
       "      <td>never smoked</td>\n",
       "      <td>0</td>\n",
       "    </tr>\n",
       "    <tr>\n",
       "      <th>5108</th>\n",
       "      <td>37544</td>\n",
       "      <td>Male</td>\n",
       "      <td>51.0</td>\n",
       "      <td>0</td>\n",
       "      <td>0</td>\n",
       "      <td>Yes</td>\n",
       "      <td>Private</td>\n",
       "      <td>Rural</td>\n",
       "      <td>166.29</td>\n",
       "      <td>25.6</td>\n",
       "      <td>formerly smoked</td>\n",
       "      <td>0</td>\n",
       "    </tr>\n",
       "    <tr>\n",
       "      <th>5109</th>\n",
       "      <td>44679</td>\n",
       "      <td>Female</td>\n",
       "      <td>44.0</td>\n",
       "      <td>0</td>\n",
       "      <td>0</td>\n",
       "      <td>Yes</td>\n",
       "      <td>Govt_job</td>\n",
       "      <td>Urban</td>\n",
       "      <td>85.28</td>\n",
       "      <td>26.2</td>\n",
       "      <td>Unknown</td>\n",
       "      <td>0</td>\n",
       "    </tr>\n",
       "  </tbody>\n",
       "</table>\n",
       "<p>5110 rows × 12 columns</p>\n",
       "</div>"
      ],
      "text/plain": [
       "         id  gender   age  hypertension  heart_disease ever_married  \\\n",
       "0      9046    Male  67.0             0              1          Yes   \n",
       "1     51676  Female  61.0             0              0          Yes   \n",
       "2     31112    Male  80.0             0              1          Yes   \n",
       "3     60182  Female  49.0             0              0          Yes   \n",
       "4      1665  Female  79.0             1              0          Yes   \n",
       "...     ...     ...   ...           ...            ...          ...   \n",
       "5105  18234  Female  80.0             1              0          Yes   \n",
       "5106  44873  Female  81.0             0              0          Yes   \n",
       "5107  19723  Female  35.0             0              0          Yes   \n",
       "5108  37544    Male  51.0             0              0          Yes   \n",
       "5109  44679  Female  44.0             0              0          Yes   \n",
       "\n",
       "          work_type Residence_type  avg_glucose_level   bmi   smoking_status  \\\n",
       "0           Private          Urban             228.69  36.6  formerly smoked   \n",
       "1     Self-employed          Rural             202.21   NaN     never smoked   \n",
       "2           Private          Rural             105.92  32.5     never smoked   \n",
       "3           Private          Urban             171.23  34.4           smokes   \n",
       "4     Self-employed          Rural             174.12  24.0     never smoked   \n",
       "...             ...            ...                ...   ...              ...   \n",
       "5105        Private          Urban              83.75   NaN     never smoked   \n",
       "5106  Self-employed          Urban             125.20  40.0     never smoked   \n",
       "5107  Self-employed          Rural              82.99  30.6     never smoked   \n",
       "5108        Private          Rural             166.29  25.6  formerly smoked   \n",
       "5109       Govt_job          Urban              85.28  26.2          Unknown   \n",
       "\n",
       "      stroke  \n",
       "0          1  \n",
       "1          1  \n",
       "2          1  \n",
       "3          1  \n",
       "4          1  \n",
       "...      ...  \n",
       "5105       0  \n",
       "5106       0  \n",
       "5107       0  \n",
       "5108       0  \n",
       "5109       0  \n",
       "\n",
       "[5110 rows x 12 columns]"
      ]
     },
     "execution_count": 1,
     "metadata": {},
     "output_type": "execute_result"
    }
   ],
   "source": [
    "import pandas as pd\n",
    "import numpy as np\n",
    "import matplotlib.pyplot as plt\n",
    "import seaborn as sns\n",
    "\n",
    "from time import time\n",
    "t0 = time()\n",
    "\n",
    "df_stroke = pd.read_csv(\"C:/Users/SOUBHIK MANDAL/Desktop/Data Analysis of Prediction of Medical Condition/dataset/healthcare-dataset-stroke-data.csv\")\n",
    "df_stroke"
   ]
  },
  {
   "cell_type": "markdown",
   "id": "0977728a",
   "metadata": {},
   "source": [
    "**What is in this dataset**"
   ]
  },
  {
   "cell_type": "code",
   "execution_count": 2,
   "id": "medical-highway",
   "metadata": {
    "execution": {
     "iopub.execute_input": "2021-06-04T13:45:02.293076Z",
     "iopub.status.busy": "2021-06-04T13:45:02.292419Z",
     "iopub.status.idle": "2021-06-04T13:45:02.310584Z",
     "shell.execute_reply": "2021-06-04T13:45:02.309661Z",
     "shell.execute_reply.started": "2021-06-04T13:33:02.654974Z"
    },
    "papermill": {
     "duration": 0.067187,
     "end_time": "2021-06-04T13:45:02.310806",
     "exception": false,
     "start_time": "2021-06-04T13:45:02.243619",
     "status": "completed"
    },
    "tags": []
   },
   "outputs": [
    {
     "name": "stdout",
     "output_type": "stream",
     "text": [
      "<class 'pandas.core.frame.DataFrame'>\n",
      "RangeIndex: 5110 entries, 0 to 5109\n",
      "Data columns (total 12 columns):\n",
      " #   Column             Non-Null Count  Dtype  \n",
      "---  ------             --------------  -----  \n",
      " 0   id                 5110 non-null   int64  \n",
      " 1   gender             5110 non-null   object \n",
      " 2   age                5110 non-null   float64\n",
      " 3   hypertension       5110 non-null   int64  \n",
      " 4   heart_disease      5110 non-null   int64  \n",
      " 5   ever_married       5110 non-null   object \n",
      " 6   work_type          5110 non-null   object \n",
      " 7   Residence_type     5110 non-null   object \n",
      " 8   avg_glucose_level  5110 non-null   float64\n",
      " 9   bmi                4909 non-null   float64\n",
      " 10  smoking_status     5110 non-null   object \n",
      " 11  stroke             5110 non-null   int64  \n",
      "dtypes: float64(3), int64(4), object(5)\n",
      "memory usage: 479.2+ KB\n"
     ]
    }
   ],
   "source": [
    "df_stroke.info()"
   ]
  },
  {
   "cell_type": "code",
   "execution_count": 3,
   "id": "e989efdb",
   "metadata": {},
   "outputs": [
    {
     "data": {
      "text/html": [
       "<div>\n",
       "<style scoped>\n",
       "    .dataframe tbody tr th:only-of-type {\n",
       "        vertical-align: middle;\n",
       "    }\n",
       "\n",
       "    .dataframe tbody tr th {\n",
       "        vertical-align: top;\n",
       "    }\n",
       "\n",
       "    .dataframe thead th {\n",
       "        text-align: right;\n",
       "    }\n",
       "</style>\n",
       "<table border=\"1\" class=\"dataframe\">\n",
       "  <thead>\n",
       "    <tr style=\"text-align: right;\">\n",
       "      <th></th>\n",
       "      <th>id</th>\n",
       "      <th>age</th>\n",
       "      <th>hypertension</th>\n",
       "      <th>heart_disease</th>\n",
       "      <th>avg_glucose_level</th>\n",
       "      <th>bmi</th>\n",
       "      <th>stroke</th>\n",
       "    </tr>\n",
       "  </thead>\n",
       "  <tbody>\n",
       "    <tr>\n",
       "      <th>count</th>\n",
       "      <td>5110.000000</td>\n",
       "      <td>5110.000000</td>\n",
       "      <td>5110.000000</td>\n",
       "      <td>5110.000000</td>\n",
       "      <td>5110.000000</td>\n",
       "      <td>4909.000000</td>\n",
       "      <td>5110.000000</td>\n",
       "    </tr>\n",
       "    <tr>\n",
       "      <th>mean</th>\n",
       "      <td>36517.829354</td>\n",
       "      <td>43.226614</td>\n",
       "      <td>0.097456</td>\n",
       "      <td>0.054012</td>\n",
       "      <td>106.147677</td>\n",
       "      <td>28.893237</td>\n",
       "      <td>0.048728</td>\n",
       "    </tr>\n",
       "    <tr>\n",
       "      <th>std</th>\n",
       "      <td>21161.721625</td>\n",
       "      <td>22.612647</td>\n",
       "      <td>0.296607</td>\n",
       "      <td>0.226063</td>\n",
       "      <td>45.283560</td>\n",
       "      <td>7.854067</td>\n",
       "      <td>0.215320</td>\n",
       "    </tr>\n",
       "    <tr>\n",
       "      <th>min</th>\n",
       "      <td>67.000000</td>\n",
       "      <td>0.080000</td>\n",
       "      <td>0.000000</td>\n",
       "      <td>0.000000</td>\n",
       "      <td>55.120000</td>\n",
       "      <td>10.300000</td>\n",
       "      <td>0.000000</td>\n",
       "    </tr>\n",
       "    <tr>\n",
       "      <th>25%</th>\n",
       "      <td>17741.250000</td>\n",
       "      <td>25.000000</td>\n",
       "      <td>0.000000</td>\n",
       "      <td>0.000000</td>\n",
       "      <td>77.245000</td>\n",
       "      <td>23.500000</td>\n",
       "      <td>0.000000</td>\n",
       "    </tr>\n",
       "    <tr>\n",
       "      <th>50%</th>\n",
       "      <td>36932.000000</td>\n",
       "      <td>45.000000</td>\n",
       "      <td>0.000000</td>\n",
       "      <td>0.000000</td>\n",
       "      <td>91.885000</td>\n",
       "      <td>28.100000</td>\n",
       "      <td>0.000000</td>\n",
       "    </tr>\n",
       "    <tr>\n",
       "      <th>75%</th>\n",
       "      <td>54682.000000</td>\n",
       "      <td>61.000000</td>\n",
       "      <td>0.000000</td>\n",
       "      <td>0.000000</td>\n",
       "      <td>114.090000</td>\n",
       "      <td>33.100000</td>\n",
       "      <td>0.000000</td>\n",
       "    </tr>\n",
       "    <tr>\n",
       "      <th>max</th>\n",
       "      <td>72940.000000</td>\n",
       "      <td>82.000000</td>\n",
       "      <td>1.000000</td>\n",
       "      <td>1.000000</td>\n",
       "      <td>271.740000</td>\n",
       "      <td>97.600000</td>\n",
       "      <td>1.000000</td>\n",
       "    </tr>\n",
       "  </tbody>\n",
       "</table>\n",
       "</div>"
      ],
      "text/plain": [
       "                 id          age  hypertension  heart_disease  \\\n",
       "count   5110.000000  5110.000000   5110.000000    5110.000000   \n",
       "mean   36517.829354    43.226614      0.097456       0.054012   \n",
       "std    21161.721625    22.612647      0.296607       0.226063   \n",
       "min       67.000000     0.080000      0.000000       0.000000   \n",
       "25%    17741.250000    25.000000      0.000000       0.000000   \n",
       "50%    36932.000000    45.000000      0.000000       0.000000   \n",
       "75%    54682.000000    61.000000      0.000000       0.000000   \n",
       "max    72940.000000    82.000000      1.000000       1.000000   \n",
       "\n",
       "       avg_glucose_level          bmi       stroke  \n",
       "count        5110.000000  4909.000000  5110.000000  \n",
       "mean          106.147677    28.893237     0.048728  \n",
       "std            45.283560     7.854067     0.215320  \n",
       "min            55.120000    10.300000     0.000000  \n",
       "25%            77.245000    23.500000     0.000000  \n",
       "50%            91.885000    28.100000     0.000000  \n",
       "75%           114.090000    33.100000     0.000000  \n",
       "max           271.740000    97.600000     1.000000  "
      ]
     },
     "execution_count": 3,
     "metadata": {},
     "output_type": "execute_result"
    }
   ],
   "source": [
    "df_stroke.describe()"
   ]
  },
  {
   "cell_type": "markdown",
   "id": "sized-speaking",
   "metadata": {
    "papermill": {
     "duration": 0.040093,
     "end_time": "2021-06-04T13:45:02.391832",
     "exception": false,
     "start_time": "2021-06-04T13:45:02.351739",
     "status": "completed"
    },
    "tags": []
   },
   "source": [
    "**Checking for missing values**"
   ]
  },
  {
   "cell_type": "code",
   "execution_count": 4,
   "id": "complimentary-harbor",
   "metadata": {
    "execution": {
     "iopub.execute_input": "2021-06-04T13:45:02.485245Z",
     "iopub.status.busy": "2021-06-04T13:45:02.481424Z",
     "iopub.status.idle": "2021-06-04T13:45:02.491457Z",
     "shell.execute_reply": "2021-06-04T13:45:02.490721Z",
     "shell.execute_reply.started": "2021-06-04T13:33:02.677254Z"
    },
    "papermill": {
     "duration": 0.05863,
     "end_time": "2021-06-04T13:45:02.491628",
     "exception": false,
     "start_time": "2021-06-04T13:45:02.432998",
     "status": "completed"
    },
    "tags": []
   },
   "outputs": [
    {
     "data": {
      "text/plain": [
       "id                     0\n",
       "gender                 0\n",
       "age                    0\n",
       "hypertension           0\n",
       "heart_disease          0\n",
       "ever_married           0\n",
       "work_type              0\n",
       "Residence_type         0\n",
       "avg_glucose_level      0\n",
       "bmi                  201\n",
       "smoking_status         0\n",
       "stroke                 0\n",
       "dtype: int64"
      ]
     },
     "execution_count": 4,
     "metadata": {},
     "output_type": "execute_result"
    }
   ],
   "source": [
    "df_stroke.isna().sum()"
   ]
  },
  {
   "cell_type": "code",
   "execution_count": 5,
   "id": "pacific-garden",
   "metadata": {
    "execution": {
     "iopub.execute_input": "2021-06-04T13:45:02.579746Z",
     "iopub.status.busy": "2021-06-04T13:45:02.579064Z",
     "iopub.status.idle": "2021-06-04T13:45:02.599172Z",
     "shell.execute_reply": "2021-06-04T13:45:02.598541Z",
     "shell.execute_reply.started": "2021-06-04T13:33:02.693085Z"
    },
    "papermill": {
     "duration": 0.066515,
     "end_time": "2021-06-04T13:45:02.599344",
     "exception": false,
     "start_time": "2021-06-04T13:45:02.532829",
     "status": "completed"
    },
    "tags": []
   },
   "outputs": [
    {
     "name": "stdout",
     "output_type": "stream",
     "text": [
      "Unique values are:\n",
      " id                   5110\n",
      "gender                  3\n",
      "age                   104\n",
      "hypertension            2\n",
      "heart_disease           2\n",
      "ever_married            2\n",
      "work_type               5\n",
      "Residence_type          2\n",
      "avg_glucose_level    3979\n",
      "bmi                   418\n",
      "smoking_status          4\n",
      "stroke                  2\n",
      "dtype: int64\n"
     ]
    }
   ],
   "source": [
    "print (\"Unique values are:\\n\",df_stroke.nunique())"
   ]
  },
  {
   "cell_type": "markdown",
   "id": "owned-chemistry",
   "metadata": {
    "papermill": {
     "duration": 0.041506,
     "end_time": "2021-06-04T13:45:02.774664",
     "exception": false,
     "start_time": "2021-06-04T13:45:02.733158",
     "status": "completed"
    },
    "tags": []
   },
   "source": [
    "**Checking for outliers**"
   ]
  },
  {
   "cell_type": "code",
   "execution_count": 6,
   "id": "impaired-traveler",
   "metadata": {
    "execution": {
     "iopub.execute_input": "2021-06-04T13:45:02.862592Z",
     "iopub.status.busy": "2021-06-04T13:45:02.861896Z",
     "iopub.status.idle": "2021-06-04T13:45:02.884059Z",
     "shell.execute_reply": "2021-06-04T13:45:02.884685Z",
     "shell.execute_reply.started": "2021-06-04T13:33:02.727876Z"
    },
    "papermill": {
     "duration": 0.068943,
     "end_time": "2021-06-04T13:45:02.884866",
     "exception": false,
     "start_time": "2021-06-04T13:45:02.815923",
     "status": "completed"
    },
    "tags": []
   },
   "outputs": [
    {
     "data": {
      "text/plain": [
       "(79,)"
      ]
     },
     "execution_count": 6,
     "metadata": {},
     "output_type": "execute_result"
    }
   ],
   "source": [
    "bmi_outliers=df_stroke[df_stroke['bmi']>50]\n",
    "bmi_outliers['bmi'].shape"
   ]
  },
  {
   "cell_type": "code",
   "execution_count": 7,
   "id": "competent-mapping",
   "metadata": {
    "execution": {
     "iopub.execute_input": "2021-06-04T13:45:02.971441Z",
     "iopub.status.busy": "2021-06-04T13:45:02.970722Z",
     "iopub.status.idle": "2021-06-04T13:45:02.987784Z",
     "shell.execute_reply": "2021-06-04T13:45:02.988320Z",
     "shell.execute_reply.started": "2021-06-04T13:33:02.750363Z"
    },
    "papermill": {
     "duration": 0.062861,
     "end_time": "2021-06-04T13:45:02.988522",
     "exception": false,
     "start_time": "2021-06-04T13:45:02.925661",
     "status": "completed"
    },
    "tags": []
   },
   "outputs": [],
   "source": [
    "df_stroke[\"bmi\"] = df_stroke[\"bmi\"].apply(lambda x: df_stroke.bmi.mean() if x>50 else x)"
   ]
  },
  {
   "cell_type": "code",
   "execution_count": 8,
   "id": "exterior-sword",
   "metadata": {
    "execution": {
     "iopub.execute_input": "2021-06-04T13:45:03.076189Z",
     "iopub.status.busy": "2021-06-04T13:45:03.075573Z",
     "iopub.status.idle": "2021-06-04T13:45:03.081901Z",
     "shell.execute_reply": "2021-06-04T13:45:03.081211Z",
     "shell.execute_reply.started": "2021-06-04T13:33:02.769142Z"
    },
    "papermill": {
     "duration": 0.05253,
     "end_time": "2021-06-04T13:45:03.082046",
     "exception": false,
     "start_time": "2021-06-04T13:45:03.029516",
     "status": "completed"
    },
    "tags": []
   },
   "outputs": [
    {
     "name": "stdout",
     "output_type": "stream",
     "text": [
      "(5110, 12)\n"
     ]
    }
   ],
   "source": [
    "df_stroke.bmi.replace(to_replace=np.nan,value=df_stroke.bmi.mean(), inplace=True)\n",
    "print (df_stroke.shape)"
   ]
  },
  {
   "cell_type": "code",
   "execution_count": 9,
   "id": "quick-boutique",
   "metadata": {
    "execution": {
     "iopub.execute_input": "2021-06-04T13:45:03.177517Z",
     "iopub.status.busy": "2021-06-04T13:45:03.176567Z",
     "iopub.status.idle": "2021-06-04T13:45:03.180484Z",
     "shell.execute_reply": "2021-06-04T13:45:03.180912Z",
     "shell.execute_reply.started": "2021-06-04T13:33:02.777762Z"
    },
    "papermill": {
     "duration": 0.056989,
     "end_time": "2021-06-04T13:45:03.181083",
     "exception": false,
     "start_time": "2021-06-04T13:45:03.124094",
     "status": "completed"
    },
    "tags": []
   },
   "outputs": [
    {
     "data": {
      "text/plain": [
       "id                   0\n",
       "gender               0\n",
       "age                  0\n",
       "hypertension         0\n",
       "heart_disease        0\n",
       "ever_married         0\n",
       "work_type            0\n",
       "Residence_type       0\n",
       "avg_glucose_level    0\n",
       "bmi                  0\n",
       "smoking_status       0\n",
       "stroke               0\n",
       "dtype: int64"
      ]
     },
     "execution_count": 9,
     "metadata": {},
     "output_type": "execute_result"
    }
   ],
   "source": [
    "df_stroke.isna().sum()"
   ]
  },
  {
   "cell_type": "code",
   "execution_count": 10,
   "id": "preceding-visibility",
   "metadata": {
    "execution": {
     "iopub.execute_input": "2021-06-04T13:45:03.267934Z",
     "iopub.status.busy": "2021-06-04T13:45:03.267000Z",
     "iopub.status.idle": "2021-06-04T13:45:03.274024Z",
     "shell.execute_reply": "2021-06-04T13:45:03.273390Z",
     "shell.execute_reply.started": "2021-06-04T13:33:02.797843Z"
    },
    "papermill": {
     "duration": 0.051928,
     "end_time": "2021-06-04T13:45:03.274159",
     "exception": false,
     "start_time": "2021-06-04T13:45:03.222231",
     "status": "completed"
    },
    "tags": []
   },
   "outputs": [
    {
     "data": {
      "text/html": [
       "<div>\n",
       "<style scoped>\n",
       "    .dataframe tbody tr th:only-of-type {\n",
       "        vertical-align: middle;\n",
       "    }\n",
       "\n",
       "    .dataframe tbody tr th {\n",
       "        vertical-align: top;\n",
       "    }\n",
       "\n",
       "    .dataframe thead th {\n",
       "        text-align: right;\n",
       "    }\n",
       "</style>\n",
       "<table border=\"1\" class=\"dataframe\">\n",
       "  <thead>\n",
       "    <tr style=\"text-align: right;\">\n",
       "      <th></th>\n",
       "      <th>gender</th>\n",
       "      <th>age</th>\n",
       "      <th>hypertension</th>\n",
       "      <th>heart_disease</th>\n",
       "      <th>ever_married</th>\n",
       "      <th>work_type</th>\n",
       "      <th>Residence_type</th>\n",
       "      <th>avg_glucose_level</th>\n",
       "      <th>bmi</th>\n",
       "      <th>smoking_status</th>\n",
       "      <th>stroke</th>\n",
       "    </tr>\n",
       "  </thead>\n",
       "  <tbody>\n",
       "    <tr>\n",
       "      <th>0</th>\n",
       "      <td>Male</td>\n",
       "      <td>67.0</td>\n",
       "      <td>0</td>\n",
       "      <td>1</td>\n",
       "      <td>Yes</td>\n",
       "      <td>Private</td>\n",
       "      <td>Urban</td>\n",
       "      <td>228.69</td>\n",
       "      <td>36.600000</td>\n",
       "      <td>formerly smoked</td>\n",
       "      <td>1</td>\n",
       "    </tr>\n",
       "    <tr>\n",
       "      <th>1</th>\n",
       "      <td>Female</td>\n",
       "      <td>61.0</td>\n",
       "      <td>0</td>\n",
       "      <td>0</td>\n",
       "      <td>Yes</td>\n",
       "      <td>Self-employed</td>\n",
       "      <td>Rural</td>\n",
       "      <td>202.21</td>\n",
       "      <td>28.451796</td>\n",
       "      <td>never smoked</td>\n",
       "      <td>1</td>\n",
       "    </tr>\n",
       "    <tr>\n",
       "      <th>2</th>\n",
       "      <td>Male</td>\n",
       "      <td>80.0</td>\n",
       "      <td>0</td>\n",
       "      <td>1</td>\n",
       "      <td>Yes</td>\n",
       "      <td>Private</td>\n",
       "      <td>Rural</td>\n",
       "      <td>105.92</td>\n",
       "      <td>32.500000</td>\n",
       "      <td>never smoked</td>\n",
       "      <td>1</td>\n",
       "    </tr>\n",
       "    <tr>\n",
       "      <th>3</th>\n",
       "      <td>Female</td>\n",
       "      <td>49.0</td>\n",
       "      <td>0</td>\n",
       "      <td>0</td>\n",
       "      <td>Yes</td>\n",
       "      <td>Private</td>\n",
       "      <td>Urban</td>\n",
       "      <td>171.23</td>\n",
       "      <td>34.400000</td>\n",
       "      <td>smokes</td>\n",
       "      <td>1</td>\n",
       "    </tr>\n",
       "    <tr>\n",
       "      <th>4</th>\n",
       "      <td>Female</td>\n",
       "      <td>79.0</td>\n",
       "      <td>1</td>\n",
       "      <td>0</td>\n",
       "      <td>Yes</td>\n",
       "      <td>Self-employed</td>\n",
       "      <td>Rural</td>\n",
       "      <td>174.12</td>\n",
       "      <td>24.000000</td>\n",
       "      <td>never smoked</td>\n",
       "      <td>1</td>\n",
       "    </tr>\n",
       "  </tbody>\n",
       "</table>\n",
       "</div>"
      ],
      "text/plain": [
       "   gender   age  hypertension  heart_disease ever_married      work_type  \\\n",
       "0    Male  67.0             0              1          Yes        Private   \n",
       "1  Female  61.0             0              0          Yes  Self-employed   \n",
       "2    Male  80.0             0              1          Yes        Private   \n",
       "3  Female  49.0             0              0          Yes        Private   \n",
       "4  Female  79.0             1              0          Yes  Self-employed   \n",
       "\n",
       "  Residence_type  avg_glucose_level        bmi   smoking_status  stroke  \n",
       "0          Urban             228.69  36.600000  formerly smoked       1  \n",
       "1          Rural             202.21  28.451796     never smoked       1  \n",
       "2          Rural             105.92  32.500000     never smoked       1  \n",
       "3          Urban             171.23  34.400000           smokes       1  \n",
       "4          Rural             174.12  24.000000     never smoked       1  "
      ]
     },
     "execution_count": 10,
     "metadata": {},
     "output_type": "execute_result"
    }
   ],
   "source": [
    "df_stroke.drop(columns='id',inplace=True)\n",
    "df_stroke.head().iloc[:5]"
   ]
  },
  {
   "cell_type": "code",
   "execution_count": 11,
   "id": "removed-quantity",
   "metadata": {
    "execution": {
     "iopub.execute_input": "2021-06-04T13:45:03.465039Z",
     "iopub.status.busy": "2021-06-04T13:45:03.464436Z",
     "iopub.status.idle": "2021-06-04T13:45:03.474276Z",
     "shell.execute_reply": "2021-06-04T13:45:03.473758Z",
     "shell.execute_reply.started": "2021-06-04T13:33:02.830092Z"
    },
    "papermill": {
     "duration": 0.05464,
     "end_time": "2021-06-04T13:45:03.474428",
     "exception": false,
     "start_time": "2021-06-04T13:45:03.419788",
     "status": "completed"
    },
    "tags": []
   },
   "outputs": [
    {
     "data": {
      "text/plain": [
       "Female    2994\n",
       "Male      2115\n",
       "Other        1\n",
       "Name: gender, dtype: int64"
      ]
     },
     "execution_count": 11,
     "metadata": {},
     "output_type": "execute_result"
    }
   ],
   "source": [
    "df_stroke.gender.value_counts()"
   ]
  },
  {
   "cell_type": "code",
   "execution_count": 12,
   "id": "atomic-fireplace",
   "metadata": {
    "execution": {
     "iopub.execute_input": "2021-06-04T13:45:03.566023Z",
     "iopub.status.busy": "2021-06-04T13:45:03.565333Z",
     "iopub.status.idle": "2021-06-04T13:45:03.569735Z",
     "shell.execute_reply": "2021-06-04T13:45:03.569098Z",
     "shell.execute_reply.started": "2021-06-04T13:33:02.844007Z"
    },
    "papermill": {
     "duration": 0.052865,
     "end_time": "2021-06-04T13:45:03.569869",
     "exception": false,
     "start_time": "2021-06-04T13:45:03.517004",
     "status": "completed"
    },
    "tags": []
   },
   "outputs": [],
   "source": [
    "df_stroke['gender']=df_stroke['gender'].replace('Other','Male')\n",
    "\n",
    "df_stroke.replace({ 'gender': {'Male':1 ,'Female':0}} ,inplace=True)\n",
    "df_stroke.replace({ 'ever_married': {'No':0 ,'Yes':1}} ,inplace=True)\n",
    "df_stroke.replace({ 'Residence_type': {'Rural':0 ,'Urban':1}} ,inplace=True)\n",
    "df_stroke.replace({ 'smoking_status': {'Unknown':0 ,'never smoked':1,'formerly smoked':2,'smokes':3}} ,inplace=True)\n",
    "df_stroke.replace({ 'work_type': {'Private':0 ,'Self-employed':1,'children':2,'Govt_job':3,'Never_worked':4}} ,inplace=True)"
   ]
  },
  {
   "cell_type": "code",
   "execution_count": 13,
   "id": "friendly-madness",
   "metadata": {
    "execution": {
     "iopub.execute_input": "2021-06-04T13:45:03.782384Z",
     "iopub.status.busy": "2021-06-04T13:45:03.781675Z",
     "iopub.status.idle": "2021-06-04T13:45:03.785197Z",
     "shell.execute_reply": "2021-06-04T13:45:03.785738Z",
     "shell.execute_reply.started": "2021-06-04T13:33:02.893704Z"
    },
    "papermill": {
     "duration": 0.052143,
     "end_time": "2021-06-04T13:45:03.785912",
     "exception": false,
     "start_time": "2021-06-04T13:45:03.733769",
     "status": "completed"
    },
    "tags": []
   },
   "outputs": [
    {
     "data": {
      "text/plain": [
       "gender                 int64\n",
       "age                  float64\n",
       "hypertension           int64\n",
       "heart_disease          int64\n",
       "ever_married           int64\n",
       "work_type              int64\n",
       "Residence_type         int64\n",
       "avg_glucose_level    float64\n",
       "bmi                  float64\n",
       "smoking_status         int64\n",
       "stroke                 int64\n",
       "dtype: object"
      ]
     },
     "execution_count": 13,
     "metadata": {},
     "output_type": "execute_result"
    }
   ],
   "source": [
    "df_stroke.dtypes"
   ]
  },
  {
   "cell_type": "markdown",
   "id": "cosmetic-proceeding",
   "metadata": {
    "papermill": {
     "duration": 0.042512,
     "end_time": "2021-06-04T13:45:03.871225",
     "exception": false,
     "start_time": "2021-06-04T13:45:03.828713",
     "status": "completed"
    },
    "tags": []
   },
   "source": [
    "**Data Exploration for the Dataset**"
   ]
  },
  {
   "cell_type": "code",
   "execution_count": 14,
   "id": "excellent-perception",
   "metadata": {
    "execution": {
     "iopub.execute_input": "2021-06-04T13:45:03.959758Z",
     "iopub.status.busy": "2021-06-04T13:45:03.958843Z",
     "iopub.status.idle": "2021-06-04T13:45:04.123405Z",
     "shell.execute_reply": "2021-06-04T13:45:04.122782Z",
     "shell.execute_reply.started": "2021-06-04T13:33:02.902301Z"
    },
    "papermill": {
     "duration": 0.210034,
     "end_time": "2021-06-04T13:45:04.123540",
     "exception": false,
     "start_time": "2021-06-04T13:45:03.913506",
     "status": "completed"
    },
    "tags": []
   },
   "outputs": [
    {
     "data": {
      "image/png": "[encoded data removed]",
      "text/plain": [
       "<Figure size 432x288 with 1 Axes>"
      ]
     },
     "metadata": {
      "needs_background": "light"
     },
     "output_type": "display_data"
    }
   ],
   "source": [
    "p = sns.countplot(data=df_stroke, x = 'gender', palette='PuBuGn')"
   ]
  },
  {
   "cell_type": "code",
   "execution_count": 15,
   "id": "warming-intent",
   "metadata": {
    "execution": {
     "iopub.execute_input": "2021-06-04T13:45:04.240905Z",
     "iopub.status.busy": "2021-06-04T13:45:04.218932Z",
     "iopub.status.idle": "2021-06-04T13:45:05.305907Z",
     "shell.execute_reply": "2021-06-04T13:45:05.305201Z",
     "shell.execute_reply.started": "2021-06-04T13:33:03.054797Z"
    },
    "papermill": {
     "duration": 1.139197,
     "end_time": "2021-06-04T13:45:05.306081",
     "exception": false,
     "start_time": "2021-06-04T13:45:04.166884",
     "status": "completed"
    },
    "scrolled": true,
    "tags": []
   },
   "outputs": [
    {
     "data": {
      "image/png": "[encoded data removed]",
      "text/plain": [
       "<Figure size 1008x1008 with 8 Axes>"
      ]
     },
     "metadata": {},
     "output_type": "display_data"
    }
   ],
   "source": [
    "fig, ax = plt.subplots(4,2, figsize = (14,14))\n",
    "((ax1, ax2), (ax3, ax4), (ax5, ax6), (ax7, ax8)) = ax\n",
    "\n",
    "labels = df_stroke['gender'].value_counts().index.tolist()[:2]\n",
    "values = df_stroke['gender'].value_counts().tolist()[:2]\n",
    "ax1.pie(x=values, labels=labels, autopct=\"%1.1f%%\",colors=['#FF9933','#19FF66'],shadow=True, startangle=45,explode=[0.01, 0.1])\n",
    "ax1.set_title(\"Gender\", fontdict={'fontsize': 12},fontweight ='bold')\n",
    "\n",
    "labels = [\"No Hypertension\", \"Hypertension\"]\n",
    "values = df_stroke['hypertension'].value_counts().tolist()\n",
    "ax2.pie(x=values, labels=labels, autopct=\"%1.1f%%\",colors=['#FF9933','#19FF66'],shadow=True,startangle=45,explode=[0.1, 0.15])\n",
    "ax2.set_title(\"Hypertension\", fontdict={'fontsize': 12},fontweight ='bold')\n",
    "\n",
    "labels = [\"No Heart Disease\", \"Heart Disease\"]\n",
    "values = df_stroke['heart_disease'].value_counts().tolist()\n",
    "ax3.pie(x=values, labels=labels, autopct=\"%1.1f%%\",colors=['#AA80FF','#FF9933'],shadow=True, startangle=45,explode=[0.1, 0.15])\n",
    "ax3.set_title(\"Heart disease\", fontdict={'fontsize': 12},fontweight ='bold')\n",
    "\n",
    "labels = [\"Married\", \"Not Married\"]\n",
    "values = df_stroke['ever_married'].value_counts().tolist()\n",
    "ax4.pie(x=values, labels=labels, autopct=\"%1.1f%%\", colors=['#FF9933','#AA80FF'],shadow=True,startangle=45,explode=[0, 0.05])\n",
    "ax4.set_title(\"Marriage\", fontdict={'fontsize': 12},fontweight ='bold')\n",
    "\n",
    "labels = [\"Private\", \"Self-Employed\", \"Children\", \"Govt Job\", \"Never Worked\"]\n",
    "values = df_stroke['work_type'].value_counts().tolist()\n",
    "ax5.pie(x=values, labels=labels, autopct=\"%1.1f%%\", colors=['#66b3ff','#FF9933','#19FF66','#FF6699','#000066'],shadow=True, startangle=45,explode=[0.1, 0.1, 0.1, 0.1, 0.2])\n",
    "ax5.set_title(\"Work Type\", fontdict={'fontsize': 12},fontweight ='bold')\n",
    "\n",
    "labels = [\"Urban\", \"Rural\"]\n",
    "values = df_stroke['Residence_type'].value_counts().tolist()\n",
    "ax6.pie(x=values, labels=labels, autopct=\"%1.1f%%\", colors=['#66b3ff','#19FF66'],shadow=True,startangle=45,explode=[0.05, 0.05])\n",
    "ax6.set_title(\"Residence Type\", fontdict={'fontsize': 12},fontweight ='bold')\n",
    "\n",
    "labels = [\"Never Smoked\", \"Unknown\", \"Smoked\", \"Smokes\"]\n",
    "values = df_stroke['smoking_status'].value_counts().tolist()\n",
    "ax7.pie(x=values, labels=labels, autopct=\"%1.1f%%\", shadow=True, startangle=45,explode=[0.05, 0.07, 0.1, 0.1],colors=['#AA80FF','#66b3ff','#19FF66','#FF6699'])\n",
    "ax7.set_title(\"Smoking Status\", fontdict={'fontsize': 12},fontweight ='bold')\n",
    "\n",
    "labels = [\"No Stroke\", \"Stroke\"]\n",
    "values = df_stroke['stroke'].value_counts().tolist()\n",
    "ax8.pie(x=values, labels=labels, autopct=\"%1.1f%%\", shadow=True, startangle=45,explode=[0.01, 0.3],colors=['#19FF66','#FF9933'])\n",
    "ax8.set_title(\"Stroke\", fontdict={'fontsize': 12},fontweight ='bold')\n",
    "\n",
    "plt.tight_layout()\n",
    "plt.show()"
   ]
  },
  {
   "cell_type": "code",
   "execution_count": 16,
   "id": "removable-television",
   "metadata": {
    "execution": {
     "iopub.execute_input": "2021-06-04T13:45:05.405498Z",
     "iopub.status.busy": "2021-06-04T13:45:05.404758Z",
     "iopub.status.idle": "2021-06-04T13:45:06.579383Z",
     "shell.execute_reply": "2021-06-04T13:45:06.578832Z",
     "shell.execute_reply.started": "2021-06-04T13:33:04.156277Z"
    },
    "papermill": {
     "duration": 1.22523,
     "end_time": "2021-06-04T13:45:06.579545",
     "exception": false,
     "start_time": "2021-06-04T13:45:05.354315",
     "status": "completed"
    },
    "tags": []
   },
   "outputs": [
    {
     "data": {
      "image/png": "[encoded data removed]",
      "text/plain": [
       "<Figure size 1008x1440 with 8 Axes>"
      ]
     },
     "metadata": {
      "needs_background": "light"
     },
     "output_type": "display_data"
    }
   ],
   "source": [
    "df_st=['gender','hypertension','heart_disease','ever_married','work_type','Residence_type','smoking_status', 'stroke']\n",
    "fig, axs = plt.subplots(4, 2, figsize=(14,20))\n",
    "axs = axs.flatten()\n",
    "\n",
    "for i, col_name in enumerate(df_st):\n",
    "    sns.countplot(x=col_name, data=df_stroke, ax=axs[i], hue =df_stroke['stroke'],palette='mako_r')"
   ]
  },
  {
   "cell_type": "code",
   "execution_count": 17,
   "id": "enabling-waterproof",
   "metadata": {
    "execution": {
     "iopub.execute_input": "2021-06-04T13:45:06.703877Z",
     "iopub.status.busy": "2021-06-04T13:45:06.702887Z",
     "iopub.status.idle": "2021-06-04T13:45:07.489930Z",
     "shell.execute_reply": "2021-06-04T13:45:07.490450Z",
     "shell.execute_reply.started": "2021-06-04T13:33:05.265334Z"
    },
    "papermill": {
     "duration": 0.860459,
     "end_time": "2021-06-04T13:45:07.490645",
     "exception": false,
     "start_time": "2021-06-04T13:45:06.630186",
     "status": "completed"
    },
    "tags": []
   },
   "outputs": [
    {
     "data": {
      "text/plain": [
       "<AxesSubplot:title={'center':'Correlation map for variables'}>"
      ]
     },
     "execution_count": 17,
     "metadata": {},
     "output_type": "execute_result"
    },
    {
     "data": {
      "image/png": "[encoded data removed]",
      "text/plain": [
       "<Figure size 864x864 with 2 Axes>"
      ]
     },
     "metadata": {
      "needs_background": "light"
     },
     "output_type": "display_data"
    }
   ],
   "source": [
    "f,ax = plt.subplots(figsize=(12, 12))\n",
    "ax.set_title('Correlation map for variables')\n",
    "sns.heatmap(df_stroke.corr(), annot=True, linewidths=.5, fmt= '.1f',ax=ax,cmap=\"icefire\")"
   ]
  },
  {
   "cell_type": "markdown",
   "id": "consistent-peter",
   "metadata": {
    "papermill": {
     "duration": 0.051876,
     "end_time": "2021-06-04T13:45:07.594395",
     "exception": false,
     "start_time": "2021-06-04T13:45:07.542519",
     "status": "completed"
    },
    "tags": []
   },
   "source": [
    "**Dataset split for prediction**"
   ]
  },
  {
   "cell_type": "code",
   "execution_count": 18,
   "id": "express-orientation",
   "metadata": {
    "execution": {
     "iopub.execute_input": "2021-06-04T13:45:07.699377Z",
     "iopub.status.busy": "2021-06-04T13:45:07.698739Z",
     "iopub.status.idle": "2021-06-04T13:45:07.930522Z",
     "shell.execute_reply": "2021-06-04T13:45:07.931223Z",
     "shell.execute_reply.started": "2021-06-04T13:33:06.087257Z"
    },
    "papermill": {
     "duration": 0.286437,
     "end_time": "2021-06-04T13:45:07.931515",
     "exception": false,
     "start_time": "2021-06-04T13:45:07.645078",
     "status": "completed"
    },
    "tags": []
   },
   "outputs": [
    {
     "name": "stdout",
     "output_type": "stream",
     "text": [
      "X_train: (4088, 10)\n",
      "y_train: (4088,)\n",
      "X_test: (1022, 10)\n",
      "y_test: (1022,)\n"
     ]
    }
   ],
   "source": [
    "X = df_stroke.drop(['stroke'], axis=1)\n",
    "y = df_stroke['stroke']\n",
    "\n",
    "from sklearn.model_selection import train_test_split\n",
    "X_train, X_test , y_train , y_test = train_test_split(X,y,test_size=0.2,random_state=42) # 80-20 split\n",
    " \n",
    "print('X_train:', X_train.shape)\n",
    "print('y_train:', y_train.shape)\n",
    "print('X_test:', X_test.shape)\n",
    "print('y_test:', y_test.shape)"
   ]
  },
  {
   "cell_type": "code",
   "execution_count": 19,
   "id": "physical-comparison",
   "metadata": {
    "execution": {
     "iopub.execute_input": "2021-06-04T13:45:08.046188Z",
     "iopub.status.busy": "2021-06-04T13:45:08.045453Z",
     "iopub.status.idle": "2021-06-04T13:45:09.150632Z",
     "shell.execute_reply": "2021-06-04T13:45:09.151134Z",
     "shell.execute_reply.started": "2021-06-04T13:33:06.284062Z"
    },
    "papermill": {
     "duration": 1.166777,
     "end_time": "2021-06-04T13:45:09.151326",
     "exception": false,
     "start_time": "2021-06-04T13:45:07.984549",
     "status": "completed"
    },
    "tags": []
   },
   "outputs": [
    {
     "name": "stdout",
     "output_type": "stream",
     "text": [
      "Random Forest Classifier Accuracy: 93.9334637964775 %\n",
      "Training time 6.547\n"
     ]
    },
    {
     "data": {
      "text/plain": [
       "<AxesSubplot:>"
      ]
     },
     "execution_count": 19,
     "metadata": {},
     "output_type": "execute_result"
    },
    {
     "data": {
      "image/png": "[encoded data removed]",
      "text/plain": [
       "<Figure size 432x288 with 2 Axes>"
      ]
     },
     "metadata": {
      "needs_background": "light"
     },
     "output_type": "display_data"
    }
   ],
   "source": [
    "import warnings\n",
    "warnings.filterwarnings('ignore')\n",
    "t0 = time()\n",
    "\n",
    "from sklearn.ensemble import RandomForestClassifier\n",
    "clf = RandomForestClassifier(n_jobs=2, random_state=0)\n",
    "clf.fit(X_train, y_train)\n",
    "\n",
    "y_pred = clf.predict(X_test)\n",
    "acc_rf = round(clf.score(X_test,y_test) * 100, 2)\n",
    "rf_time=(round(time() - t0, 3))\n",
    "\n",
    "from sklearn import metrics\n",
    "print(\"Random Forest Classifier Accuracy:\",metrics.accuracy_score(y_test, y_pred)*100,\"%\")\n",
    "print('Training time', rf_time)\n",
    "\n",
    "from sklearn.metrics import confusion_matrix\n",
    "cm = pd.DataFrame(confusion_matrix(y_test, y_pred))\n",
    "sns.heatmap(cm, annot=True,cmap=\"mako_r\")"
   ]
  },
  {
   "cell_type": "code",
   "execution_count": 20,
   "id": "fifth-virus",
   "metadata": {
    "execution": {
     "iopub.execute_input": "2021-06-04T13:45:09.269093Z",
     "iopub.status.busy": "2021-06-04T13:45:09.268335Z",
     "iopub.status.idle": "2021-06-04T13:45:09.494031Z",
     "shell.execute_reply": "2021-06-04T13:45:09.493472Z",
     "shell.execute_reply.started": "2021-06-04T13:33:07.264643Z"
    },
    "papermill": {
     "duration": 0.288524,
     "end_time": "2021-06-04T13:45:09.494222",
     "exception": false,
     "start_time": "2021-06-04T13:45:09.205698",
     "status": "completed"
    },
    "tags": []
   },
   "outputs": [
    {
     "name": "stdout",
     "output_type": "stream",
     "text": [
      "Gaussian Naïve Bayes Accuracy: 86.88845401174167 %\n",
      "Training time 0.016\n"
     ]
    },
    {
     "data": {
      "text/plain": [
       "<AxesSubplot:>"
      ]
     },
     "execution_count": 20,
     "metadata": {},
     "output_type": "execute_result"
    },
    {
     "data": {
      "image/png": "[encoded data removed]",
      "text/plain": [
       "<Figure size 432x288 with 2 Axes>"
      ]
     },
     "metadata": {
      "needs_background": "light"
     },
     "output_type": "display_data"
    }
   ],
   "source": [
    "t0 = time()\n",
    "from sklearn.naive_bayes import GaussianNB\n",
    "gnb = GaussianNB()\n",
    "\n",
    "gnb.fit(X_train, y_train)\n",
    "y_pred = gnb.predict(X_test)\n",
    "acc_gnb = round(gnb.score(X_test,y_test) * 100, 2)\n",
    "gnb_time=(round(time() - t0, 3))\n",
    "\n",
    "from sklearn import metrics\n",
    "print(\"Gaussian Naïve Bayes Accuracy:\",metrics.accuracy_score(y_test, y_pred)*100,\"%\")\n",
    "print('Training time', gnb_time)\n",
    "cm = pd.DataFrame(confusion_matrix(y_test, y_pred))\n",
    "sns.heatmap(cm, annot=True,cmap=\"mako_r\")"
   ]
  },
  {
   "cell_type": "code",
   "execution_count": 21,
   "id": "toxic-disease",
   "metadata": {
    "execution": {
     "iopub.execute_input": "2021-06-04T13:45:09.620218Z",
     "iopub.status.busy": "2021-06-04T13:45:09.619223Z",
     "iopub.status.idle": "2021-06-04T13:45:09.850932Z",
     "shell.execute_reply": "2021-06-04T13:45:09.850320Z",
     "shell.execute_reply.started": "2021-06-04T13:33:07.471954Z"
    },
    "papermill": {
     "duration": 0.30013,
     "end_time": "2021-06-04T13:45:09.851086",
     "exception": false,
     "start_time": "2021-06-04T13:45:09.550956",
     "status": "completed"
    },
    "tags": []
   },
   "outputs": [
    {
     "name": "stdout",
     "output_type": "stream",
     "text": [
      "Decision Tree Accuracy: 92.17221135029354 %\n",
      "Training time 0.675\n"
     ]
    },
    {
     "data": {
      "text/plain": [
       "<AxesSubplot:>"
      ]
     },
     "execution_count": 21,
     "metadata": {},
     "output_type": "execute_result"
    },
    {
     "data": {
      "image/png": "[encoded data removed]",
      "text/plain": [
       "<Figure size 432x288 with 2 Axes>"
      ]
     },
     "metadata": {
      "needs_background": "light"
     },
     "output_type": "display_data"
    }
   ],
   "source": [
    "from sklearn.tree import DecisionTreeClassifier\n",
    "from sklearn import tree\n",
    "clf = DecisionTreeClassifier(max_depth=10)\n",
    "clf = clf.fit(X_train,y_train)\n",
    "\n",
    "y_pred = clf.predict(X_test)\n",
    "acc_dt = round(clf.score(X_test,y_test) * 100, 2)\n",
    "dt_time=(round(time() - t0, 3))\n",
    "\n",
    "from sklearn.metrics import accuracy_score \n",
    "print (\"Decision Tree Accuracy:\", metrics.accuracy_score(y_test, y_pred)*100,\"%\")\n",
    "print('Training time', dt_time)\n",
    "cm = pd.DataFrame(confusion_matrix(y_test, y_pred))\n",
    "sns.heatmap(cm, annot=True,cmap=\"mako_r\")"
   ]
  },
  {
   "cell_type": "code",
   "execution_count": 22,
   "id": "curious-degree",
   "metadata": {
    "execution": {
     "iopub.execute_input": "2021-06-04T13:45:09.973323Z",
     "iopub.status.busy": "2021-06-04T13:45:09.972684Z",
     "iopub.status.idle": "2021-06-04T13:45:10.489894Z",
     "shell.execute_reply": "2021-06-04T13:45:10.490412Z",
     "shell.execute_reply.started": "2021-06-04T13:33:07.664014Z"
    },
    "papermill": {
     "duration": 0.583541,
     "end_time": "2021-06-04T13:45:10.490585",
     "exception": false,
     "start_time": "2021-06-04T13:45:09.907044",
     "status": "completed"
    },
    "tags": []
   },
   "outputs": [
    {
     "name": "stdout",
     "output_type": "stream",
     "text": [
      "kNN Accuracy: 93.44422700587084 %\n",
      "Training time 1.184\n"
     ]
    },
    {
     "data": {
      "text/plain": [
       "<AxesSubplot:>"
      ]
     },
     "execution_count": 22,
     "metadata": {},
     "output_type": "execute_result"
    },
    {
     "data": {
      "image/png": "[encoded data removed]",
      "text/plain": [
       "<Figure size 432x288 with 2 Axes>"
      ]
     },
     "metadata": {
      "needs_background": "light"
     },
     "output_type": "display_data"
    }
   ],
   "source": [
    "import sys, os\n",
    "from sklearn.neighbors import KNeighborsClassifier\n",
    "knn = KNeighborsClassifier(n_neighbors=3)\n",
    "knn.fit(X_train, y_train)\n",
    "\n",
    "y_pred = knn.predict(X_test)\n",
    "acc_knn = round(knn.score(X_test,y_test) * 100, 2)\n",
    "knn_time=(round(time() - t0, 3))\n",
    "\n",
    "from sklearn import metrics\n",
    "print(\"kNN Accuracy:\",metrics.accuracy_score(y_test, y_pred)*100,\"%\")\n",
    "print('Training time', knn_time)\n",
    "cm = pd.DataFrame(confusion_matrix(y_test, y_pred))\n",
    "sns.heatmap(cm, annot=True,cmap=\"mako_r\")"
   ]
  },
  {
   "cell_type": "code",
   "execution_count": 23,
   "id": "waiting-translation",
   "metadata": {
    "execution": {
     "iopub.execute_input": "2021-06-04T13:45:10.610279Z",
     "iopub.status.busy": "2021-06-04T13:45:10.609625Z",
     "iopub.status.idle": "2021-06-04T13:45:11.072531Z",
     "shell.execute_reply": "2021-06-04T13:45:11.073087Z",
     "shell.execute_reply.started": "2021-06-04T13:33:08.053819Z"
    },
    "papermill": {
     "duration": 0.525004,
     "end_time": "2021-06-04T13:45:11.073297",
     "exception": false,
     "start_time": "2021-06-04T13:45:10.548293",
     "status": "completed"
    },
    "tags": []
   },
   "outputs": [
    {
     "name": "stdout",
     "output_type": "stream",
     "text": [
      "SVM Accuracy: 93.9334637964775 %\n",
      "Training time 1.397\n"
     ]
    },
    {
     "data": {
      "text/plain": [
       "<AxesSubplot:>"
      ]
     },
     "execution_count": 23,
     "metadata": {},
     "output_type": "execute_result"
    },
    {
     "data": {
      "image/png": "[encoded data removed]",
      "text/plain": [
       "<Figure size 432x288 with 2 Axes>"
      ]
     },
     "metadata": {
      "needs_background": "light"
     },
     "output_type": "display_data"
    }
   ],
   "source": [
    "import warnings\n",
    "warnings.filterwarnings('ignore')\n",
    "\n",
    "import sys, os\n",
    "from sklearn import svm\n",
    "from sklearn.svm import SVC\n",
    "clf = SVC(C=1, kernel='rbf')\n",
    "clf.fit(X_train, y_train)\n",
    "\n",
    "y_pred = clf.predict(X_test)\n",
    "acc_svm = round(clf.score(X_test,y_test) * 100, 2)\n",
    "svm_time=(round(time() - t0, 3))\n",
    "\n",
    "print(\"SVM Accuracy:\",metrics.accuracy_score(y_test, y_pred)*100,\"%\")\n",
    "print('Training time', svm_time)\n",
    "cm = pd.DataFrame(confusion_matrix(y_test, y_pred))\n",
    "sns.heatmap(cm, annot=True,cmap=\"mako_r\")"
   ]
  },
  {
   "cell_type": "markdown",
   "id": "recorded-scratch",
   "metadata": {
    "papermill": {
     "duration": 0.060639,
     "end_time": "2021-06-04T13:45:11.194801",
     "exception": false,
     "start_time": "2021-06-04T13:45:11.134162",
     "status": "completed"
    },
    "tags": []
   },
   "source": [
    "**Plotting all accuracies**"
   ]
  },
  {
   "cell_type": "code",
   "execution_count": 24,
   "id": "defensive-tiffany",
   "metadata": {
    "execution": {
     "iopub.execute_input": "2021-06-04T13:45:11.320974Z",
     "iopub.status.busy": "2021-06-04T13:45:11.319996Z",
     "iopub.status.idle": "2021-06-04T13:45:11.446095Z",
     "shell.execute_reply": "2021-06-04T13:45:11.445540Z",
     "shell.execute_reply.started": "2021-06-04T13:33:08.508292Z"
    },
    "papermill": {
     "duration": 0.192106,
     "end_time": "2021-06-04T13:45:11.446257",
     "exception": false,
     "start_time": "2021-06-04T13:45:11.254151",
     "status": "completed"
    },
    "tags": []
   },
   "outputs": [
    {
     "data": {
      "image/png": "[encoded data removed]",
      "text/plain": [
       "<Figure size 432x288 with 1 Axes>"
      ]
     },
     "metadata": {
      "needs_background": "light"
     },
     "output_type": "display_data"
    }
   ],
   "source": [
    "predictors_group = ('Random Forest', 'GaussianNB', 'DecisionTree','kNN','SVM')\n",
    "x_pos = np.arange(len(predictors_group))\n",
    "accuracies1 = [acc_rf, acc_gnb, acc_dt,acc_knn, acc_svm]\n",
    "    \n",
    "plt.bar(x_pos, accuracies1, align='center', alpha=0.5, color='blue')\n",
    "plt.xticks(x_pos, predictors_group, rotation='vertical')\n",
    "plt.ylabel('Accuracy (%)')\n",
    "plt.title('Classifier Accuracies')\n",
    "plt.show()"
   ]
  },
  {
   "cell_type": "code",
   "execution_count": 25,
   "id": "tender-installation",
   "metadata": {
    "execution": {
     "iopub.execute_input": "2021-06-04T13:45:11.576462Z",
     "iopub.status.busy": "2021-06-04T13:45:11.575543Z",
     "iopub.status.idle": "2021-06-04T13:45:14.707640Z",
     "shell.execute_reply": "2021-06-04T13:45:14.706985Z",
     "shell.execute_reply.started": "2021-06-04T13:33:08.639499Z"
    },
    "papermill": {
     "duration": 3.201472,
     "end_time": "2021-06-04T13:45:14.707823",
     "exception": false,
     "start_time": "2021-06-04T13:45:11.506351",
     "status": "completed"
    },
    "tags": []
   },
   "outputs": [
    {
     "name": "stdout",
     "output_type": "stream",
     "text": [
      "Fold:  1, Training/Test Split Distribution: [3510  169], Accuracy: 0.956\n",
      "\n",
      "\n",
      "Cross-Validation accuracy: 0.956 +/- 0.000\n",
      "Fold:  2, Training/Test Split Distribution: [3511  168], Accuracy: 0.954\n",
      "\n",
      "\n",
      "Cross-Validation accuracy: 0.955 +/- 0.001\n",
      "Fold:  3, Training/Test Split Distribution: [3511  168], Accuracy: 0.954\n",
      "\n",
      "\n",
      "Cross-Validation accuracy: 0.954 +/- 0.001\n",
      "Fold:  4, Training/Test Split Distribution: [3511  168], Accuracy: 0.954\n",
      "\n",
      "\n",
      "Cross-Validation accuracy: 0.954 +/- 0.001\n",
      "Fold:  5, Training/Test Split Distribution: [3511  168], Accuracy: 0.954\n",
      "\n",
      "\n",
      "Cross-Validation accuracy: 0.954 +/- 0.001\n",
      "Fold:  6, Training/Test Split Distribution: [3511  168], Accuracy: 0.954\n",
      "\n",
      "\n",
      "Cross-Validation accuracy: 0.954 +/- 0.001\n",
      "Fold:  7, Training/Test Split Distribution: [3511  168], Accuracy: 0.954\n",
      "\n",
      "\n",
      "Cross-Validation accuracy: 0.954 +/- 0.001\n",
      "Fold:  8, Training/Test Split Distribution: [3511  168], Accuracy: 0.954\n",
      "\n",
      "\n",
      "Cross-Validation accuracy: 0.954 +/- 0.001\n",
      "Fold:  9, Training/Test Split Distribution: [3511  169], Accuracy: 0.956\n",
      "\n",
      "\n",
      "Cross-Validation accuracy: 0.954 +/- 0.001\n",
      "Fold: 10, Training/Test Split Distribution: [3511  169], Accuracy: 0.956\n",
      "\n",
      "\n",
      "Cross-Validation accuracy: 0.954 +/- 0.001\n"
     ]
    }
   ],
   "source": [
    "from sklearn.model_selection import cross_val_score\n",
    "from sklearn.pipeline import make_pipeline\n",
    "from sklearn.preprocessing import StandardScaler\n",
    "from sklearn.svm import SVC\n",
    "from sklearn.ensemble import RandomForestClassifier\n",
    "from sklearn.model_selection import StratifiedKFold\n",
    "\n",
    "import warnings\n",
    "warnings.filterwarnings('ignore')\n",
    "\n",
    "pipeline = make_pipeline(StandardScaler(), RandomForestClassifier(n_estimators=100, max_depth=4))\n",
    "strtfdKFold = StratifiedKFold(n_splits=10)\n",
    "kfold = strtfdKFold.split(X_train, y_train)\n",
    "scores = []\n",
    "\n",
    "for k, (train, test) in enumerate(kfold):\n",
    "    pipeline.fit(X_train.iloc[train, :], y_train.iloc[train])\n",
    "    score_skf = pipeline.score(X_train.iloc[test, :], y_train.iloc[test])\n",
    "    scores.append(score_skf)\n",
    "    acc_skf = round(score_skf * 100, 2)\n",
    "    print('Fold: %2d, Training/Test Split Distribution: %s, Accuracy: %.3f' % (k+1, np.bincount(y_train.iloc[train]), score_skf))\n",
    "    print('\\n\\nCross-Validation accuracy: %.3f +/- %.3f' %(np.mean(scores), np.std(scores)))"
   ]
  },
  {
   "cell_type": "code",
   "execution_count": 26,
   "id": "allied-field",
   "metadata": {
    "execution": {
     "iopub.execute_input": "2021-06-04T13:45:14.875801Z",
     "iopub.status.busy": "2021-06-04T13:45:14.872066Z",
     "iopub.status.idle": "2021-06-04T13:45:15.388257Z",
     "shell.execute_reply": "2021-06-04T13:45:15.387503Z",
     "shell.execute_reply.started": "2021-06-04T13:33:11.701730Z"
    },
    "papermill": {
     "duration": 0.597723,
     "end_time": "2021-06-04T13:45:15.388449",
     "exception": false,
     "start_time": "2021-06-04T13:45:14.790726",
     "status": "completed"
    },
    "tags": []
   },
   "outputs": [
    {
     "name": "stdout",
     "output_type": "stream",
     "text": [
      "Fold:  1, Training/Test Split Distribution: [3510  169], Accuracy: 0.949\n",
      "\n",
      "\n",
      "Cross-Validation accuracy: 0.949 +/- 0.000\n",
      "Fold:  2, Training/Test Split Distribution: [3511  168], Accuracy: 0.954\n",
      "\n",
      "\n",
      "Cross-Validation accuracy: 0.951 +/- 0.002\n",
      "Fold:  3, Training/Test Split Distribution: [3511  168], Accuracy: 0.949\n",
      "\n",
      "\n",
      "Cross-Validation accuracy: 0.950 +/- 0.002\n",
      "Fold:  4, Training/Test Split Distribution: [3511  168], Accuracy: 0.939\n",
      "\n",
      "\n",
      "Cross-Validation accuracy: 0.947 +/- 0.005\n",
      "Fold:  5, Training/Test Split Distribution: [3511  168], Accuracy: 0.939\n",
      "\n",
      "\n",
      "Cross-Validation accuracy: 0.946 +/- 0.006\n",
      "Fold:  6, Training/Test Split Distribution: [3511  168], Accuracy: 0.951\n",
      "\n",
      "\n",
      "Cross-Validation accuracy: 0.947 +/- 0.006\n",
      "Fold:  7, Training/Test Split Distribution: [3511  168], Accuracy: 0.946\n",
      "\n",
      "\n",
      "Cross-Validation accuracy: 0.947 +/- 0.005\n",
      "Fold:  8, Training/Test Split Distribution: [3511  168], Accuracy: 0.949\n",
      "\n",
      "\n",
      "Cross-Validation accuracy: 0.947 +/- 0.005\n",
      "Fold:  9, Training/Test Split Distribution: [3511  169], Accuracy: 0.944\n",
      "\n",
      "\n",
      "Cross-Validation accuracy: 0.946 +/- 0.005\n",
      "Fold: 10, Training/Test Split Distribution: [3511  169], Accuracy: 0.953\n",
      "\n",
      "\n",
      "Cross-Validation accuracy: 0.947 +/- 0.005\n"
     ]
    }
   ],
   "source": [
    "from sklearn.model_selection import cross_val_score\n",
    "from sklearn.pipeline import make_pipeline\n",
    "from sklearn.preprocessing import StandardScaler\n",
    "from sklearn.svm import SVC\n",
    "from sklearn.neighbors import KNeighborsClassifier\n",
    "from sklearn.model_selection import StratifiedKFold\n",
    "\n",
    "import warnings\n",
    "warnings.filterwarnings('ignore')\n",
    "\n",
    "pipeline = make_pipeline(StandardScaler(), KNeighborsClassifier(n_neighbors=3))\n",
    "strtfdKFold = StratifiedKFold(n_splits=10)\n",
    "kfold = strtfdKFold.split(X_train, y_train)\n",
    "scores = []\n",
    "\n",
    "for k, (train, test) in enumerate(kfold):\n",
    "    pipeline.fit(X_train.iloc[train, :], y_train.iloc[train])\n",
    "    score_skf = pipeline.score(X_train.iloc[test, :], y_train.iloc[test])\n",
    "    scores.append(score_skf)\n",
    "    acc_skf_knn = round(score_skf * 100, 2) # calculating accuracy for plot\n",
    "    print('Fold: %2d, Training/Test Split Distribution: %s, Accuracy: %.3f' % (k+1, np.bincount(y_train.iloc[train]), score_skf))\n",
    "    print('\\n\\nCross-Validation accuracy: %.3f +/- %.3f' %(np.mean(scores), np.std(scores)))"
   ]
  },
  {
   "cell_type": "code",
   "execution_count": 27,
   "id": "sensitive-sequence",
   "metadata": {
    "execution": {
     "iopub.execute_input": "2021-06-04T13:45:15.523666Z",
     "iopub.status.busy": "2021-06-04T13:45:15.522617Z",
     "iopub.status.idle": "2021-06-04T13:45:16.094640Z",
     "shell.execute_reply": "2021-06-04T13:45:16.095443Z",
     "shell.execute_reply.started": "2021-06-04T13:33:12.128277Z"
    },
    "papermill": {
     "duration": 0.643408,
     "end_time": "2021-06-04T13:45:16.095701",
     "exception": false,
     "start_time": "2021-06-04T13:45:15.452293",
     "status": "completed"
    },
    "tags": []
   },
   "outputs": [
    {
     "name": "stdout",
     "output_type": "stream",
     "text": [
      "[94.99021526418787, 95.06849315068493, 95.0293542074364, 95.10763209393346]\n",
      "Avg Cross Validation accuracy for Shuffle split: 95.049 +/- 0.044\n"
     ]
    }
   ],
   "source": [
    "from sklearn import preprocessing\n",
    "from sklearn.model_selection import StratifiedShuffleSplit\n",
    "X = preprocessing.StandardScaler().fit(X).transform(X)\n",
    "sss = StratifiedShuffleSplit(n_splits=4, test_size=0.5,\n",
    "                             random_state=0)\n",
    "sss.get_n_splits(X, y)\n",
    "scores = []\n",
    "\n",
    "clf = RandomForestClassifier(n_estimators=40, max_depth=7)\n",
    "for train_index, test_index in sss.split(X, y):\n",
    "    X_train, X_test = X[train_index], X[test_index]\n",
    "    y_train, y_test = y[train_index], y[test_index]\n",
    "    clf.fit(X_train, y_train)\n",
    "    y_pred = clf.predict(X_test)\n",
    "    scores.append(accuracy_score(y_test, y_pred) * 100)\n",
    "    acc_sss = np.mean(scores)\n",
    "print(scores)\n",
    "print('Avg Cross Validation accuracy for Shuffle split: %.3f +/- %.3f' % (np.mean(scores),np.std(scores)))"
   ]
  },
  {
   "cell_type": "code",
   "execution_count": 28,
   "id": "governmental-facial",
   "metadata": {
    "execution": {
     "iopub.execute_input": "2021-06-04T13:45:16.228338Z",
     "iopub.status.busy": "2021-06-04T13:45:16.227406Z",
     "iopub.status.idle": "2021-06-04T13:45:16.849276Z",
     "shell.execute_reply": "2021-06-04T13:45:16.848747Z",
     "shell.execute_reply.started": "2021-06-04T13:33:12.688440Z"
    },
    "papermill": {
     "duration": 0.688226,
     "end_time": "2021-06-04T13:45:16.849442",
     "exception": false,
     "start_time": "2021-06-04T13:45:16.161216",
     "status": "completed"
    },
    "tags": []
   },
   "outputs": [
    {
     "name": "stdout",
     "output_type": "stream",
     "text": [
      "[94.09001956947162, 94.48140900195695, 94.01174168297456, 94.20743639921723]\n",
      "Avg Cross Validation accuracy for Shuffle split: 94.198 +/- 0.178\n"
     ]
    }
   ],
   "source": [
    "from sklearn import preprocessing\n",
    "from sklearn.model_selection import StratifiedShuffleSplit\n",
    "\n",
    "X = preprocessing.StandardScaler().fit(X).transform(X)\n",
    "sss = StratifiedShuffleSplit(n_splits=4, test_size=0.5,\n",
    "                             random_state=0)\n",
    "sss.get_n_splits(X, y)\n",
    "scores = []\n",
    "\n",
    "clf = KNeighborsClassifier(n_neighbors=3)\n",
    "for train_index, test_index in sss.split(X, y):\n",
    "    X_train, X_test = X[train_index], X[test_index]\n",
    "    y_train, y_test = y[train_index], y[test_index]\n",
    "    clf.fit(X_train, y_train)\n",
    "    y_pred = clf.predict(X_test)\n",
    "    scores.append(accuracy_score(y_test, y_pred) * 100)\n",
    "    acc_sss_knn = np.mean(scores)\n",
    "print(scores)\n",
    "print('Avg Cross Validation accuracy for Shuffle split: %.3f +/- %.3f' % (np.mean(scores),np.std(scores)))"
   ]
  },
  {
   "cell_type": "code",
   "execution_count": 29,
   "id": "thousand-asthma",
   "metadata": {
    "execution": {
     "iopub.execute_input": "2021-06-04T13:45:17.002246Z",
     "iopub.status.busy": "2021-06-04T13:45:16.999409Z",
     "iopub.status.idle": "2021-06-04T13:45:17.161697Z",
     "shell.execute_reply": "2021-06-04T13:45:17.162163Z",
     "shell.execute_reply.started": "2021-06-04T13:33:13.335562Z"
    },
    "papermill": {
     "duration": 0.249478,
     "end_time": "2021-06-04T13:45:17.162414",
     "exception": false,
     "start_time": "2021-06-04T13:45:16.912936",
     "status": "completed"
    },
    "tags": []
   },
   "outputs": [
    {
     "data": {
      "image/png": "[encoded data removed]",
      "text/plain": [
       "<Figure size 432x288 with 1 Axes>"
      ]
     },
     "metadata": {
      "needs_background": "light"
     },
     "output_type": "display_data"
    }
   ],
   "source": [
    "predictors_group = ('Random Forest', 'GaussianNB', 'DecisionTree','kNN','SVM', 'RF-StratifiedKFold','RF-StratifiedShuffleSplit','knn-StratifiedKFold','knn-StratifiedShuffleSplit')\n",
    "x_pos = np.arange(len(predictors_group))\n",
    "accuracies1 = [acc_rf, acc_gnb, acc_dt,acc_knn, acc_svm,acc_skf,acc_sss,acc_skf_knn,acc_sss_knn ]\n",
    "colors = ['b','b','b','b','b','r','r','r','r']\n",
    "plt.bar(x_pos, accuracies1, align='center', alpha=0.5, color=colors)\n",
    "plt.xticks(x_pos, predictors_group, rotation='vertical')\n",
    "plt.ylabel('Accuracy (%)')\n",
    "plt.title('Classifier Accuracies')\n",
    "plt.show()"
   ]
  },
  {
   "cell_type": "code",
   "execution_count": 30,
   "id": "sealed-bolivia",
   "metadata": {
    "execution": {
     "iopub.execute_input": "2021-06-04T13:45:17.298486Z",
     "iopub.status.busy": "2021-06-04T13:45:17.297834Z",
     "iopub.status.idle": "2021-06-04T13:45:17.469679Z",
     "shell.execute_reply": "2021-06-04T13:45:17.470136Z",
     "shell.execute_reply.started": "2021-06-04T13:33:13.507782Z"
    },
    "papermill": {
     "duration": 0.242279,
     "end_time": "2021-06-04T13:45:17.470346",
     "exception": false,
     "start_time": "2021-06-04T13:45:17.228067",
     "status": "completed"
    },
    "tags": []
   },
   "outputs": [
    {
     "data": {
      "text/plain": [
       "<matplotlib.collections.PathCollection at 0x25644f014c0>"
      ]
     },
     "execution_count": 30,
     "metadata": {},
     "output_type": "execute_result"
    },
    {
     "data": {
      "image/png": "[encoded data removed]",
      "text/plain": [
       "<Figure size 720x432 with 1 Axes>"
      ]
     },
     "metadata": {
      "needs_background": "light"
     },
     "output_type": "display_data"
    }
   ],
   "source": [
    "plt.figure(figsize=(10,6))\n",
    "x = df_stroke.age\n",
    "y =df_stroke.bmi\n",
    "plt.xlabel('Age')\n",
    "plt.ylabel('bmi')\n",
    "plt.scatter(x,y)"
   ]
  },
  {
   "cell_type": "code",
   "execution_count": 31,
   "id": "timely-hungary",
   "metadata": {
    "execution": {
     "iopub.execute_input": "2021-06-04T13:45:17.611186Z",
     "iopub.status.busy": "2021-06-04T13:45:17.610196Z",
     "iopub.status.idle": "2021-06-04T13:45:17.617188Z",
     "shell.execute_reply": "2021-06-04T13:45:17.617721Z",
     "shell.execute_reply.started": "2021-06-04T13:33:13.682662Z"
    },
    "papermill": {
     "duration": 0.078875,
     "end_time": "2021-06-04T13:45:17.617912",
     "exception": false,
     "start_time": "2021-06-04T13:45:17.539037",
     "status": "completed"
    },
    "tags": []
   },
   "outputs": [
    {
     "name": "stdout",
     "output_type": "stream",
     "text": [
      "(4144, 11)\n"
     ]
    }
   ],
   "source": [
    "df_stroke.drop(df_stroke[df_stroke.age < 20].index, inplace=True)\n",
    "print (df_stroke.shape)"
   ]
  },
  {
   "cell_type": "code",
   "execution_count": 32,
   "id": "parliamentary-channel",
   "metadata": {
    "execution": {
     "iopub.execute_input": "2021-06-04T13:45:17.907012Z",
     "iopub.status.busy": "2021-06-04T13:45:17.906404Z",
     "iopub.status.idle": "2021-06-04T13:45:17.919925Z",
     "shell.execute_reply": "2021-06-04T13:45:17.919303Z",
     "shell.execute_reply.started": "2021-06-04T13:33:13.702603Z"
    },
    "papermill": {
     "duration": 0.084549,
     "end_time": "2021-06-04T13:45:17.920092",
     "exception": false,
     "start_time": "2021-06-04T13:45:17.835543",
     "status": "completed"
    },
    "tags": []
   },
   "outputs": [
    {
     "name": "stdout",
     "output_type": "stream",
     "text": [
      "Xn_train: (3315, 10)\n",
      "yn_train: (3315,)\n",
      "Xn_test: (829, 10)\n",
      "yn_test: (829,)\n"
     ]
    }
   ],
   "source": [
    "Xn = df_stroke.drop(['stroke'], axis=1)\n",
    "yn = df_stroke['stroke']\n",
    "\n",
    "from sklearn.model_selection import train_test_split\n",
    "Xn_train, Xn_test , yn_train , yn_test = train_test_split(Xn,yn,test_size=0.2,random_state=42) # 80-20 split\n",
    "\n",
    "print('Xn_train:', Xn_train.shape)\n",
    "print('yn_train:', yn_train.shape)\n",
    "print('Xn_test:', Xn_test.shape)\n",
    "print('yn_test:', yn_test.shape)"
   ]
  },
  {
   "cell_type": "code",
   "execution_count": 33,
   "id": "steady-equity",
   "metadata": {
    "execution": {
     "iopub.execute_input": "2021-06-04T13:45:18.076340Z",
     "iopub.status.busy": "2021-06-04T13:45:18.075256Z",
     "iopub.status.idle": "2021-06-04T13:45:18.978933Z",
     "shell.execute_reply": "2021-06-04T13:45:18.979463Z",
     "shell.execute_reply.started": "2021-06-04T13:33:13.718682Z"
    },
    "papermill": {
     "duration": 0.986757,
     "end_time": "2021-06-04T13:45:18.979663",
     "exception": false,
     "start_time": "2021-06-04T13:45:17.992906",
     "status": "completed"
    },
    "tags": []
   },
   "outputs": [
    {
     "name": "stdout",
     "output_type": "stream",
     "text": [
      "Random Forest Classifier Accuracy: 92.2798552472859 %\n",
      "Training time 0.344\n"
     ]
    },
    {
     "data": {
      "text/plain": [
       "<AxesSubplot:>"
      ]
     },
     "execution_count": 33,
     "metadata": {},
     "output_type": "execute_result"
    },
    {
     "data": {
      "image/png": "[encoded data removed]",
      "text/plain": [
       "<Figure size 432x288 with 2 Axes>"
      ]
     },
     "metadata": {
      "needs_background": "light"
     },
     "output_type": "display_data"
    }
   ],
   "source": [
    "import warnings\n",
    "warnings.filterwarnings('ignore')\n",
    "t0 = time()\n",
    "\n",
    "from sklearn.ensemble import RandomForestClassifier\n",
    "clf = RandomForestClassifier(n_jobs=2, random_state=0)\n",
    "clf.fit(Xn_train, yn_train)\n",
    "\n",
    "yn_pred = clf.predict(Xn_test)\n",
    "acc_rf_n = round(clf.score(Xn_test,yn_test) * 100, 2)\n",
    "rf_time_n=(round(time() - t0, 3))\n",
    "\n",
    "from sklearn import metrics\n",
    "print(\"Random Forest Classifier Accuracy:\",metrics.accuracy_score(yn_test, yn_pred)*100,\"%\")\n",
    "print('Training time', rf_time_n)\n",
    "\n",
    "from sklearn.metrics import confusion_matrix\n",
    "cm = pd.DataFrame(confusion_matrix(yn_test, yn_pred))\n",
    "sns.heatmap(cm, annot=True,cmap=\"mako_r\")"
   ]
  },
  {
   "cell_type": "code",
   "execution_count": 34,
   "id": "super-border",
   "metadata": {
    "execution": {
     "iopub.execute_input": "2021-06-04T13:45:19.126308Z",
     "iopub.status.busy": "2021-06-04T13:45:19.125332Z",
     "iopub.status.idle": "2021-06-04T13:45:21.999155Z",
     "shell.execute_reply": "2021-06-04T13:45:21.998221Z",
     "shell.execute_reply.started": "2021-06-04T13:33:14.518225Z"
    },
    "papermill": {
     "duration": 2.949034,
     "end_time": "2021-06-04T13:45:21.999387",
     "exception": false,
     "start_time": "2021-06-04T13:45:19.050353",
     "status": "completed"
    },
    "tags": []
   },
   "outputs": [
    {
     "name": "stdout",
     "output_type": "stream",
     "text": [
      "Cross Validation accuracy scores with updated df: [0.94578313 0.94578313 0.94277108 0.94277108 0.94277108 0.94561934\n",
      " 0.94561934 0.94561934 0.94561934 0.94561934]\n",
      "updated Avg Cross Validation accuracy: 0.945 +/- 0.001\n"
     ]
    }
   ],
   "source": [
    "import warnings\n",
    "warnings.filterwarnings('ignore')\n",
    "\n",
    "from sklearn.model_selection import cross_val_score\n",
    "from sklearn.pipeline import make_pipeline\n",
    "from sklearn.preprocessing import StandardScaler\n",
    "from sklearn.svm import SVC\n",
    "from sklearn.ensemble import RandomForestClassifier\n",
    "\n",
    "pipeline = make_pipeline(StandardScaler(), RandomForestClassifier(n_estimators=100, max_depth=4))\n",
    "scores = cross_val_score(pipeline, X=Xn_train, y=yn_train, cv=10, n_jobs=1)\n",
    "print('Cross Validation accuracy scores with updated df: %s' % scores)\n",
    "print('updated Avg Cross Validation accuracy: %.3f +/- %.3f' % (np.mean(scores),np.std(scores)))"
   ]
  }
 ],
 "metadata": {
  "kernelspec": {
   "display_name": "Python 3",
   "language": "python",
   "name": "python3"
  },
  "language_info": {
   "codemirror_mode": {
    "name": "ipython",
    "version": 3
   },
   "file_extension": ".py",
   "mimetype": "text/x-python",
   "name": "python",
   "nbconvert_exporter": "python",
   "pygments_lexer": "ipython3",
   "version": "3.8.8"
  },
  "papermill": {
   "default_parameters": {},
   "duration": 31.869466,
   "end_time": "2021-06-04T13:45:24.284456",
   "environment_variables": {},
   "exception": null,
   "input_path": "__notebook__.ipynb",
   "output_path": "__notebook__.ipynb",
   "parameters": {},
   "start_time": "2021-06-04T13:44:52.414990",
   "version": "2.3.3"
  }
 },
 "nbformat": 4,
 "nbformat_minor": 5
}
